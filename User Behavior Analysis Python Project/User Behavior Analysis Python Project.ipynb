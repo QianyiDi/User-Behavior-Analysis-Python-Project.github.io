{
 "cells": [
  {
   "cell_type": "code",
   "execution_count": 1,
   "id": "47c722b0",
   "metadata": {},
   "outputs": [],
   "source": [
    "import pandas as pd\n",
    "import numpy as np\n",
    "import matplotlib.pyplot as plt\n",
    "import time\n",
    "from datetime import datetime,timedelta,date"
   ]
  },
  {
   "cell_type": "code",
   "execution_count": 2,
   "id": "8fa4800b",
   "metadata": {},
   "outputs": [],
   "source": [
    "df=pd.read_csv(\"D:/从c盘转移的桌面/github/User Behavior Analysis Python Project/customer_behavior2.csv\")"
   ]
  },
  {
   "cell_type": "code",
   "execution_count": 3,
   "id": "3daf77e5",
   "metadata": {},
   "outputs": [],
   "source": [
    "data=df[['cust_id','prod_id','group_id','be_type','day_id','buy_time']]"
   ]
  },
  {
   "cell_type": "code",
   "execution_count": 4,
   "id": "309b697d",
   "metadata": {},
   "outputs": [
    {
     "name": "stderr",
     "output_type": "stream",
     "text": [
      "c:\\Users\\HUAWEI\\anaconda3\\envs\\risk_ctrl\\lib\\site-packages\\ipykernel_launcher.py:1: SettingWithCopyWarning: \n",
      "A value is trying to be set on a copy of a slice from a DataFrame.\n",
      "Try using .loc[row_indexer,col_indexer] = value instead\n",
      "\n",
      "See the caveats in the documentation: https://pandas.pydata.org/pandas-docs/stable/user_guide/indexing.html#returning-a-view-versus-a-copy\n",
      "  \"\"\"Entry point for launching an IPython kernel.\n",
      "c:\\Users\\HUAWEI\\anaconda3\\envs\\risk_ctrl\\lib\\site-packages\\ipykernel_launcher.py:2: SettingWithCopyWarning: \n",
      "A value is trying to be set on a copy of a slice from a DataFrame.\n",
      "Try using .loc[row_indexer,col_indexer] = value instead\n",
      "\n",
      "See the caveats in the documentation: https://pandas.pydata.org/pandas-docs/stable/user_guide/indexing.html#returning-a-view-versus-a-copy\n",
      "  \n"
     ]
    }
   ],
   "source": [
    "data['day_id']=pd.to_datetime(data['day_id'])\n",
    "data['buy_time']=pd.to_datetime(data['buy_time'])"
   ]
  },
  {
   "cell_type": "code",
   "execution_count": 5,
   "id": "8140b447",
   "metadata": {},
   "outputs": [
    {
     "name": "stderr",
     "output_type": "stream",
     "text": [
      "c:\\Users\\HUAWEI\\anaconda3\\envs\\risk_ctrl\\lib\\site-packages\\ipykernel_launcher.py:2: SettingWithCopyWarning: \n",
      "A value is trying to be set on a copy of a slice from a DataFrame.\n",
      "Try using .loc[row_indexer,col_indexer] = value instead\n",
      "\n",
      "See the caveats in the documentation: https://pandas.pydata.org/pandas-docs/stable/user_guide/indexing.html#returning-a-view-versus-a-copy\n",
      "  \n",
      "c:\\Users\\HUAWEI\\anaconda3\\envs\\risk_ctrl\\lib\\site-packages\\ipykernel_launcher.py:3: SettingWithCopyWarning: \n",
      "A value is trying to be set on a copy of a slice from a DataFrame.\n",
      "Try using .loc[row_indexer,col_indexer] = value instead\n",
      "\n",
      "See the caveats in the documentation: https://pandas.pydata.org/pandas-docs/stable/user_guide/indexing.html#returning-a-view-versus-a-copy\n",
      "  This is separate from the ipykernel package so we can avoid doing imports until\n",
      "c:\\Users\\HUAWEI\\anaconda3\\envs\\risk_ctrl\\lib\\site-packages\\ipykernel_launcher.py:4: SettingWithCopyWarning: \n",
      "A value is trying to be set on a copy of a slice from a DataFrame.\n",
      "Try using .loc[row_indexer,col_indexer] = value instead\n",
      "\n",
      "See the caveats in the documentation: https://pandas.pydata.org/pandas-docs/stable/user_guide/indexing.html#returning-a-view-versus-a-copy\n",
      "  after removing the cwd from sys.path.\n",
      "c:\\Users\\HUAWEI\\anaconda3\\envs\\risk_ctrl\\lib\\site-packages\\ipykernel_launcher.py:5: SettingWithCopyWarning: \n",
      "A value is trying to be set on a copy of a slice from a DataFrame.\n",
      "Try using .loc[row_indexer,col_indexer] = value instead\n",
      "\n",
      "See the caveats in the documentation: https://pandas.pydata.org/pandas-docs/stable/user_guide/indexing.html#returning-a-view-versus-a-copy\n",
      "  \"\"\"\n"
     ]
    }
   ],
   "source": [
    "data1=data[(data.buy_time>='2019-11-05')&(data.buy_time<='2019-11-13')]\n",
    "data1['month']=data1['day_id'].dt.month\n",
    "data1['times']=data1['day_id'].dt.time\n",
    "data1['hours']=data1['day_id'].dt.hour\n",
    "data1['weekday']=data1['day_id'].dt.dayofweek+1"
   ]
  },
  {
   "cell_type": "code",
   "execution_count": 6,
   "id": "fdbe90fa",
   "metadata": {},
   "outputs": [
    {
     "data": {
      "text/plain": [
       "be_type\n",
       "buy       3385\n",
       "cart      9482\n",
       "fav       5015\n",
       "pv      152439\n",
       "Name: cust_id, dtype: int64"
      ]
     },
     "execution_count": 6,
     "metadata": {},
     "output_type": "execute_result"
    }
   ],
   "source": [
    "behavior_count=data1.groupby('be_type')['cust_id'].count()\n",
    "behavior_count"
   ]
  },
  {
   "cell_type": "code",
   "execution_count": 7,
   "id": "de2af3cc",
   "metadata": {},
   "outputs": [
    {
     "data": {
      "text/plain": [
       "2.2537478931961323"
      ]
     },
     "execution_count": 7,
     "metadata": {},
     "output_type": "execute_result"
    }
   ],
   "source": [
    "#Bounce Rate\n",
    "PV=behavior_count['pv']\n",
    "UV=len(data1['cust_id'].unique())\n",
    "PV/UV"
   ]
  },
  {
   "cell_type": "code",
   "execution_count": 8,
   "id": "7d60a5ab",
   "metadata": {},
   "outputs": [
    {
     "data": {
      "text/html": [
       "<div>\n",
       "<style scoped>\n",
       "    .dataframe tbody tr th:only-of-type {\n",
       "        vertical-align: middle;\n",
       "    }\n",
       "\n",
       "    .dataframe tbody tr th {\n",
       "        vertical-align: top;\n",
       "    }\n",
       "\n",
       "    .dataframe thead th {\n",
       "        text-align: right;\n",
       "    }\n",
       "</style>\n",
       "<table border=\"1\" class=\"dataframe\">\n",
       "  <thead>\n",
       "    <tr style=\"text-align: right;\">\n",
       "      <th></th>\n",
       "      <th>cust_id</th>\n",
       "    </tr>\n",
       "  </thead>\n",
       "  <tbody>\n",
       "    <tr>\n",
       "      <th>1</th>\n",
       "      <td>115381</td>\n",
       "    </tr>\n",
       "    <tr>\n",
       "      <th>2</th>\n",
       "      <td>136001</td>\n",
       "    </tr>\n",
       "    <tr>\n",
       "      <th>3</th>\n",
       "      <td>138753</td>\n",
       "    </tr>\n",
       "    <tr>\n",
       "      <th>4</th>\n",
       "      <td>142217</td>\n",
       "    </tr>\n",
       "    <tr>\n",
       "      <th>5</th>\n",
       "      <td>128124</td>\n",
       "    </tr>\n",
       "    <tr>\n",
       "      <th>...</th>\n",
       "      <td>...</td>\n",
       "    </tr>\n",
       "    <tr>\n",
       "      <th>170396</th>\n",
       "      <td>1012514</td>\n",
       "    </tr>\n",
       "    <tr>\n",
       "      <th>170397</th>\n",
       "      <td>129833</td>\n",
       "    </tr>\n",
       "    <tr>\n",
       "      <th>170398</th>\n",
       "      <td>1008512</td>\n",
       "    </tr>\n",
       "    <tr>\n",
       "      <th>170399</th>\n",
       "      <td>1001615</td>\n",
       "    </tr>\n",
       "    <tr>\n",
       "      <th>170400</th>\n",
       "      <td>160316</td>\n",
       "    </tr>\n",
       "  </tbody>\n",
       "</table>\n",
       "<p>152439 rows × 1 columns</p>\n",
       "</div>"
      ],
      "text/plain": [
       "        cust_id\n",
       "1        115381\n",
       "2        136001\n",
       "3        138753\n",
       "4        142217\n",
       "5        128124\n",
       "...         ...\n",
       "170396  1012514\n",
       "170397   129833\n",
       "170398  1008512\n",
       "170399  1001615\n",
       "170400   160316\n",
       "\n",
       "[152439 rows x 1 columns]"
      ]
     },
     "execution_count": 8,
     "metadata": {},
     "output_type": "execute_result"
    }
   ],
   "source": [
    "#number of four types customers\n",
    "data_pv=data1.loc[data1['be_type']=='pv',['cust_id']]\n",
    "data_fav = data1.loc[data1['be_type']=='fav',['cust_id']]\n",
    "data_cart = data1.loc[data1['be_type']=='cart',['cust_id']]\n",
    "data_buy = data1.loc[data1['be_type']=='buy',['cust_id']]\n",
    "data_pv"
   ]
  },
  {
   "cell_type": "code",
   "execution_count": 9,
   "id": "731ce8f0",
   "metadata": {},
   "outputs": [
    {
     "data": {
      "text/plain": [
       "{131072,\n",
       " 131074,\n",
       " 131075,\n",
       " 131076,\n",
       " 131078,\n",
       " 131079,\n",
       " 131080,\n",
       " 131081,\n",
       " 131082,\n",
       " 131083,\n",
       " 131084,\n",
       " 131086,\n",
       " 131087,\n",
       " 131088,\n",
       " 131089,\n",
       " 131093,\n",
       " 131097,\n",
       " 131103,\n",
       " 131105,\n",
       " 131106,\n",
       " 131107,\n",
       " 131108,\n",
       " 131109,\n",
       " 131110,\n",
       " 131111,\n",
       " 131112,\n",
       " 131114,\n",
       " 131116,\n",
       " 131118,\n",
       " 131119,\n",
       " 131120,\n",
       " 131121,\n",
       " 131122,\n",
       " 131123,\n",
       " 131124,\n",
       " 131127,\n",
       " 131128,\n",
       " 131129,\n",
       " 131131,\n",
       " 131132,\n",
       " 131135,\n",
       " 131136,\n",
       " 131138,\n",
       " 131140,\n",
       " 131141,\n",
       " 131142,\n",
       " 131144,\n",
       " 131146,\n",
       " 131147,\n",
       " 131148,\n",
       " 131149,\n",
       " 131150,\n",
       " 131151,\n",
       " 131153,\n",
       " 131155,\n",
       " 131156,\n",
       " 131158,\n",
       " 131161,\n",
       " 131162,\n",
       " 131163,\n",
       " 131164,\n",
       " 131166,\n",
       " 131168,\n",
       " 131171,\n",
       " 131173,\n",
       " 131174,\n",
       " 131176,\n",
       " 131178,\n",
       " 131179,\n",
       " 131180,\n",
       " 131182,\n",
       " 131183,\n",
       " 131184,\n",
       " 111,\n",
       " 114,\n",
       " 115,\n",
       " 131188,\n",
       " 117,\n",
       " 131190,\n",
       " 131191,\n",
       " 131192,\n",
       " 131193,\n",
       " 131194,\n",
       " 116,\n",
       " 131196,\n",
       " 131197,\n",
       " 131201,\n",
       " 131203,\n",
       " 131204,\n",
       " 131206,\n",
       " 131207,\n",
       " 131208,\n",
       " 131211,\n",
       " 131212,\n",
       " 131214,\n",
       " 131215,\n",
       " 131216,\n",
       " 131224,\n",
       " 131227,\n",
       " 131229,\n",
       " 131231,\n",
       " 131232,\n",
       " 131233,\n",
       " 131236,\n",
       " 131237,\n",
       " 131239,\n",
       " 131241,\n",
       " 131242,\n",
       " 131244,\n",
       " 131245,\n",
       " 131247,\n",
       " 131248,\n",
       " 131251,\n",
       " 131252,\n",
       " 131253,\n",
       " 131254,\n",
       " 131256,\n",
       " 131257,\n",
       " 131258,\n",
       " 131259,\n",
       " 131261,\n",
       " 131262,\n",
       " 131263,\n",
       " 131264,\n",
       " 131265,\n",
       " 131266,\n",
       " 131267,\n",
       " 131268,\n",
       " 131270,\n",
       " 131271,\n",
       " 200,\n",
       " 131273,\n",
       " 131274,\n",
       " 203,\n",
       " 131276,\n",
       " 202,\n",
       " 131278,\n",
       " 131279,\n",
       " 131280,\n",
       " 207,\n",
       " 131282,\n",
       " 211,\n",
       " 131284,\n",
       " 210,\n",
       " 131283,\n",
       " 215,\n",
       " 131288,\n",
       " 217,\n",
       " 131290,\n",
       " 131289,\n",
       " 220,\n",
       " 131293,\n",
       " 222,\n",
       " 221,\n",
       " 131296,\n",
       " 218,\n",
       " 131291,\n",
       " 131299,\n",
       " 131295,\n",
       " 229,\n",
       " 131302,\n",
       " 131303,\n",
       " 131304,\n",
       " 231,\n",
       " 233,\n",
       " 131306,\n",
       " 232,\n",
       " 236,\n",
       " 131305,\n",
       " 131310,\n",
       " 240,\n",
       " 131313,\n",
       " 131309,\n",
       " 243,\n",
       " 131316,\n",
       " 131317,\n",
       " 131318,\n",
       " 247,\n",
       " 131319,\n",
       " 131320,\n",
       " 250,\n",
       " 131323,\n",
       " 251,\n",
       " 131325,\n",
       " 254,\n",
       " 131324,\n",
       " 131328,\n",
       " 252,\n",
       " 131330,\n",
       " 131333,\n",
       " 261,\n",
       " 131334,\n",
       " 131335,\n",
       " 262,\n",
       " 269,\n",
       " 270,\n",
       " 131342,\n",
       " 131344,\n",
       " 273,\n",
       " 274,\n",
       " 131347,\n",
       " 276,\n",
       " 131349,\n",
       " 131350,\n",
       " 131351,\n",
       " 131352,\n",
       " 131353,\n",
       " 131354,\n",
       " 131356,\n",
       " 131357,\n",
       " 131358,\n",
       " 131361,\n",
       " 131364,\n",
       " 131365,\n",
       " 131366,\n",
       " 131368,\n",
       " 131370,\n",
       " 131371,\n",
       " 131373,\n",
       " 131374,\n",
       " 131376,\n",
       " 131377,\n",
       " 131378,\n",
       " 131379,\n",
       " 131380,\n",
       " 131382,\n",
       " 131384,\n",
       " 131385,\n",
       " 131386,\n",
       " 131387,\n",
       " 131388,\n",
       " 131390,\n",
       " 131391,\n",
       " 131392,\n",
       " 131396,\n",
       " 131397,\n",
       " 131398,\n",
       " 131399,\n",
       " 131400,\n",
       " 131401,\n",
       " 131402,\n",
       " 131403,\n",
       " 131404,\n",
       " 131405,\n",
       " 131406,\n",
       " 131408,\n",
       " 131409,\n",
       " 131410,\n",
       " 131413,\n",
       " 131414,\n",
       " 131417,\n",
       " 131418,\n",
       " 131426,\n",
       " 131427,\n",
       " 131428,\n",
       " 131429,\n",
       " 131430,\n",
       " 131432,\n",
       " 131433,\n",
       " 131434,\n",
       " 131436,\n",
       " 131437,\n",
       " 131441,\n",
       " 131443,\n",
       " 131445,\n",
       " 131446,\n",
       " 131448,\n",
       " 131449,\n",
       " 131451,\n",
       " 131453,\n",
       " 131454,\n",
       " 131455,\n",
       " 131456,\n",
       " 131457,\n",
       " 131458,\n",
       " 131462,\n",
       " 131464,\n",
       " 131465,\n",
       " 131466,\n",
       " 131468,\n",
       " 131470,\n",
       " 131471,\n",
       " 131472,\n",
       " 131474,\n",
       " 131475,\n",
       " 131476,\n",
       " 131477,\n",
       " 131478,\n",
       " 131479,\n",
       " 131480,\n",
       " 131483,\n",
       " 131484,\n",
       " 131485,\n",
       " 131486,\n",
       " 131488,\n",
       " 131489,\n",
       " 131492,\n",
       " 131493,\n",
       " 131496,\n",
       " 131497,\n",
       " 131501,\n",
       " 131504,\n",
       " 131505,\n",
       " 131507,\n",
       " 131509,\n",
       " 131510,\n",
       " 131513,\n",
       " 131516,\n",
       " 131517,\n",
       " 131518,\n",
       " 131519,\n",
       " 131520,\n",
       " 131522,\n",
       " 131523,\n",
       " 131524,\n",
       " 131525,\n",
       " 131526,\n",
       " 131527,\n",
       " 131530,\n",
       " 131531,\n",
       " 131532,\n",
       " 131533,\n",
       " 131534,\n",
       " 131535,\n",
       " 131537,\n",
       " 131538,\n",
       " 131540,\n",
       " 131541,\n",
       " 131543,\n",
       " 131544,\n",
       " 131545,\n",
       " 131549,\n",
       " 131550,\n",
       " 131551,\n",
       " 131552,\n",
       " 131553,\n",
       " 131554,\n",
       " 131555,\n",
       " 131556,\n",
       " 131557,\n",
       " 131558,\n",
       " 131559,\n",
       " 131561,\n",
       " 131564,\n",
       " 131565,\n",
       " 131566,\n",
       " 131569,\n",
       " 131570,\n",
       " 131571,\n",
       " 131574,\n",
       " 131576,\n",
       " 131582,\n",
       " 131585,\n",
       " 131591,\n",
       " 131592,\n",
       " 131593,\n",
       " 131594,\n",
       " 131598,\n",
       " 131599,\n",
       " 131601,\n",
       " 131602,\n",
       " 131606,\n",
       " 131607,\n",
       " 131609,\n",
       " 131611,\n",
       " 131612,\n",
       " 131613,\n",
       " 131614,\n",
       " 131616,\n",
       " 131620,\n",
       " 131622,\n",
       " 131623,\n",
       " 131624,\n",
       " 131626,\n",
       " 131627,\n",
       " 131631,\n",
       " 131632,\n",
       " 131633,\n",
       " 131634,\n",
       " 131635,\n",
       " 131636,\n",
       " 131639,\n",
       " 131640,\n",
       " 131641,\n",
       " 131643,\n",
       " 131644,\n",
       " 131645,\n",
       " 131646,\n",
       " 131647,\n",
       " 131648,\n",
       " 131649,\n",
       " 131650,\n",
       " 131652,\n",
       " 131653,\n",
       " 131655,\n",
       " 131656,\n",
       " 131657,\n",
       " 131659,\n",
       " 131661,\n",
       " 131662,\n",
       " 131668,\n",
       " 131669,\n",
       " 131670,\n",
       " 131671,\n",
       " 131673,\n",
       " 131674,\n",
       " 131678,\n",
       " 131679,\n",
       " 131680,\n",
       " 131683,\n",
       " 131684,\n",
       " 131685,\n",
       " 131686,\n",
       " 131687,\n",
       " 131690,\n",
       " 131691,\n",
       " 131694,\n",
       " 131695,\n",
       " 131696,\n",
       " 131698,\n",
       " 131700,\n",
       " 131701,\n",
       " 131702,\n",
       " 131704,\n",
       " 131706,\n",
       " 131709,\n",
       " 131710,\n",
       " 131713,\n",
       " 131716,\n",
       " 131717,\n",
       " 131719,\n",
       " 131721,\n",
       " 131722,\n",
       " 131724,\n",
       " 131725,\n",
       " 131726,\n",
       " 131727,\n",
       " 131728,\n",
       " 131729,\n",
       " 131733,\n",
       " 131735,\n",
       " 131737,\n",
       " 131738,\n",
       " 131739,\n",
       " 131740,\n",
       " 131741,\n",
       " 131745,\n",
       " 131746,\n",
       " 131747,\n",
       " 131748,\n",
       " 131749,\n",
       " 131750,\n",
       " 131751,\n",
       " 131752,\n",
       " 131753,\n",
       " 131754,\n",
       " 131755,\n",
       " 131760,\n",
       " 131761,\n",
       " 131762,\n",
       " 131764,\n",
       " 131767,\n",
       " 131768,\n",
       " 131769,\n",
       " 131770,\n",
       " 131772,\n",
       " 131775,\n",
       " 131778,\n",
       " 131779,\n",
       " 131780,\n",
       " 131781,\n",
       " 131785,\n",
       " 131787,\n",
       " 131788,\n",
       " 131790,\n",
       " 131791,\n",
       " 131792,\n",
       " 131794,\n",
       " 131796,\n",
       " 131797,\n",
       " 131798,\n",
       " 131799,\n",
       " 131800,\n",
       " 131803,\n",
       " 131805,\n",
       " 131807,\n",
       " 131808,\n",
       " 131812,\n",
       " 131813,\n",
       " 131814,\n",
       " 131816,\n",
       " 131818,\n",
       " 131819,\n",
       " 131821,\n",
       " 131822,\n",
       " 131823,\n",
       " 131824,\n",
       " 131825,\n",
       " 131826,\n",
       " 131827,\n",
       " 131829,\n",
       " 131831,\n",
       " 131834,\n",
       " 131837,\n",
       " 131839,\n",
       " 131840,\n",
       " 131841,\n",
       " 131846,\n",
       " 131847,\n",
       " 131848,\n",
       " 131849,\n",
       " 131850,\n",
       " 131851,\n",
       " 131853,\n",
       " 131854,\n",
       " 131855,\n",
       " 131858,\n",
       " 131860,\n",
       " 131861,\n",
       " 131862,\n",
       " 131866,\n",
       " 131867,\n",
       " 131868,\n",
       " 131872,\n",
       " 131873,\n",
       " 131876,\n",
       " 131877,\n",
       " 131878,\n",
       " 131879,\n",
       " 131880,\n",
       " 131881,\n",
       " 131882,\n",
       " 131883,\n",
       " 131884,\n",
       " 131886,\n",
       " 131887,\n",
       " 131888,\n",
       " 131889,\n",
       " 131890,\n",
       " 131891,\n",
       " 131892,\n",
       " 131894,\n",
       " 131895,\n",
       " 131896,\n",
       " 131898,\n",
       " 131899,\n",
       " 131901,\n",
       " 131902,\n",
       " 131903,\n",
       " 131907,\n",
       " 131908,\n",
       " 131909,\n",
       " 131910,\n",
       " 131911,\n",
       " 131912,\n",
       " 131913,\n",
       " 131914,\n",
       " 131916,\n",
       " 131917,\n",
       " 131918,\n",
       " 131919,\n",
       " 131921,\n",
       " 131922,\n",
       " 131923,\n",
       " 131924,\n",
       " 131926,\n",
       " 131928,\n",
       " 131930,\n",
       " 131931,\n",
       " 131932,\n",
       " 131933,\n",
       " 131936,\n",
       " 131938,\n",
       " 131939,\n",
       " 131941,\n",
       " 131943,\n",
       " 131945,\n",
       " 131946,\n",
       " 131948,\n",
       " 131949,\n",
       " 131950,\n",
       " 131951,\n",
       " 131952,\n",
       " 131955,\n",
       " 131956,\n",
       " 131958,\n",
       " 131959,\n",
       " 131961,\n",
       " 131963,\n",
       " 131964,\n",
       " 131965,\n",
       " 131966,\n",
       " 131969,\n",
       " 131970,\n",
       " 131971,\n",
       " 131976,\n",
       " 131979,\n",
       " 131980,\n",
       " 131981,\n",
       " 131982,\n",
       " 131984,\n",
       " 131985,\n",
       " 131987,\n",
       " 131988,\n",
       " 131989,\n",
       " 131990,\n",
       " 131991,\n",
       " 131993,\n",
       " 131994,\n",
       " 131995,\n",
       " 131996,\n",
       " 131998,\n",
       " 131999,\n",
       " 132000,\n",
       " 132002,\n",
       " 132005,\n",
       " 132007,\n",
       " 132010,\n",
       " 132011,\n",
       " 132012,\n",
       " 132013,\n",
       " 132015,\n",
       " 132016,\n",
       " 132017,\n",
       " 132020,\n",
       " 132021,\n",
       " 132023,\n",
       " 132024,\n",
       " 132026,\n",
       " 132028,\n",
       " 132029,\n",
       " 132030,\n",
       " 132033,\n",
       " 132035,\n",
       " 132036,\n",
       " 132041,\n",
       " 132043,\n",
       " 132044,\n",
       " 132045,\n",
       " 132046,\n",
       " 132050,\n",
       " 132052,\n",
       " 132057,\n",
       " 132058,\n",
       " 132059,\n",
       " 132061,\n",
       " 132062,\n",
       " 132063,\n",
       " 132065,\n",
       " 132070,\n",
       " 132073,\n",
       " 132075,\n",
       " 132076,\n",
       " 132078,\n",
       " 132085,\n",
       " 132086,\n",
       " 132087,\n",
       " 132088,\n",
       " 132090,\n",
       " 132092,\n",
       " 132093,\n",
       " 132095,\n",
       " 132096,\n",
       " 132099,\n",
       " 132100,\n",
       " 132102,\n",
       " 132104,\n",
       " 132105,\n",
       " 132108,\n",
       " 132109,\n",
       " 206,\n",
       " 132111,\n",
       " 132114,\n",
       " 132115,\n",
       " 132118,\n",
       " 132119,\n",
       " 132120,\n",
       " 132122,\n",
       " 132123,\n",
       " 132124,\n",
       " 132125,\n",
       " 132127,\n",
       " 132130,\n",
       " 132132,\n",
       " 132133,\n",
       " 132134,\n",
       " 132137,\n",
       " 132138,\n",
       " 132139,\n",
       " 132140,\n",
       " 132141,\n",
       " 212,\n",
       " 132143,\n",
       " 213,\n",
       " 132146,\n",
       " 132147,\n",
       " 214,\n",
       " 132151,\n",
       " 132153,\n",
       " 132155,\n",
       " 132156,\n",
       " 132158,\n",
       " 216,\n",
       " 132160,\n",
       " 132162,\n",
       " 132163,\n",
       " 132164,\n",
       " 132166,\n",
       " 132167,\n",
       " 132168,\n",
       " 132169,\n",
       " 132170,\n",
       " 132171,\n",
       " 1100,\n",
       " 132172,\n",
       " 1102,\n",
       " 132175,\n",
       " 132176,\n",
       " 219,\n",
       " 1106,\n",
       " 132179,\n",
       " 1108,\n",
       " 1109,\n",
       " 1110,\n",
       " 1111,\n",
       " 1112,\n",
       " 132185,\n",
       " 1114,\n",
       " 1115,\n",
       " 132188,\n",
       " 132189,\n",
       " 132186,\n",
       " 132191,\n",
       " 132187,\n",
       " 132184,\n",
       " 132194,\n",
       " 132192,\n",
       " 1124,\n",
       " 132197,\n",
       " 132198,\n",
       " 132199,\n",
       " 1128,\n",
       " 132200,\n",
       " 132202,\n",
       " 132203,\n",
       " 1132,\n",
       " 132205,\n",
       " 1127,\n",
       " 132207,\n",
       " 132208,\n",
       " 132209,\n",
       " 1138,\n",
       " 132210,\n",
       " 132211,\n",
       " 1137,\n",
       " 132214,\n",
       " 1143,\n",
       " 132215,\n",
       " 1145,\n",
       " 132217,\n",
       " 1142,\n",
       " 132212,\n",
       " 1149,\n",
       " 132222,\n",
       " 1151,\n",
       " 1152,\n",
       " 1153,\n",
       " 132226,\n",
       " 1155,\n",
       " 132227,\n",
       " 1157,\n",
       " 1150,\n",
       " 1154,\n",
       " 1160,\n",
       " 132233,\n",
       " 132234,\n",
       " 132235,\n",
       " 132236,\n",
       " 1164,\n",
       " 132238,\n",
       " 1167,\n",
       " 132240,\n",
       " 1169,\n",
       " 1170,\n",
       " 132243,\n",
       " 132244,\n",
       " 1173,\n",
       " 132246,\n",
       " 1174,\n",
       " 132247,\n",
       " 1176,\n",
       " 132250,\n",
       " 1178,\n",
       " 132252,\n",
       " 132248,\n",
       " 132254,\n",
       " 132255,\n",
       " 1184,\n",
       " 1182,\n",
       " 132258,\n",
       " 1180,\n",
       " 132260,\n",
       " 132261,\n",
       " 132262,\n",
       " 1191,\n",
       " 1192,\n",
       " 132264,\n",
       " 132266,\n",
       " 132267,\n",
       " 1196,\n",
       " 132269,\n",
       " 132268,\n",
       " 132263,\n",
       " 132272,\n",
       " 132273,\n",
       " 1200,\n",
       " 132274,\n",
       " 1203,\n",
       " 132276,\n",
       " 1202,\n",
       " 132279,\n",
       " 1207,\n",
       " 1201,\n",
       " 132282,\n",
       " 1210,\n",
       " 132284,\n",
       " 132285,\n",
       " 1209,\n",
       " 132287,\n",
       " 132283,\n",
       " 132289,\n",
       " 132290,\n",
       " 1219,\n",
       " 1220,\n",
       " 132293,\n",
       " 132294,\n",
       " 132295,\n",
       " 132296,\n",
       " 132297,\n",
       " 1226,\n",
       " 132298,\n",
       " 1225,\n",
       " 132301,\n",
       " 1230,\n",
       " 1231,\n",
       " 1229,\n",
       " 132305,\n",
       " 1235,\n",
       " 1236,\n",
       " 132309,\n",
       " 1238,\n",
       " 1239,\n",
       " 132312,\n",
       " 132313,\n",
       " 132314,\n",
       " 132308,\n",
       " 1244,\n",
       " 132316,\n",
       " 132318,\n",
       " 132319,\n",
       " 1246,\n",
       " 1249,\n",
       " 132321,\n",
       " 132322,\n",
       " 132324,\n",
       " 1253,\n",
       " 1251,\n",
       " 132327,\n",
       " 1256,\n",
       " 1257,\n",
       " 132326,\n",
       " 132331,\n",
       " 132332,\n",
       " 132325,\n",
       " 1262,\n",
       " 132334,\n",
       " 1264,\n",
       " 1265,\n",
       " 132336,\n",
       " 132337,\n",
       " 1268,\n",
       " 132340,\n",
       " 132341,\n",
       " 132343,\n",
       " 132344,\n",
       " 132345,\n",
       " 132346,\n",
       " 1275,\n",
       " 132348,\n",
       " 1277,\n",
       " 1278,\n",
       " 1276,\n",
       " 132349,\n",
       " 1282,\n",
       " 1283,\n",
       " 1284,\n",
       " 132357,\n",
       " 132358,\n",
       " 1287,\n",
       " 1286,\n",
       " 1289,\n",
       " 1290,\n",
       " 132362,\n",
       " 1292,\n",
       " 1293,\n",
       " 1294,\n",
       " 1295,\n",
       " 132368,\n",
       " 1297,\n",
       " 132366,\n",
       " 132371,\n",
       " 132372,\n",
       " 132373,\n",
       " 1302,\n",
       " 132370,\n",
       " 1304,\n",
       " 1298,\n",
       " 1306,\n",
       " 1303,\n",
       " 132380,\n",
       " 1309,\n",
       " 132382,\n",
       " 1308,\n",
       " 1312,\n",
       " 1310,\n",
       " 1313,\n",
       " 132385,\n",
       " 1316,\n",
       " 132384,\n",
       " 1314,\n",
       " 132391,\n",
       " 1320,\n",
       " 132393,\n",
       " 1322,\n",
       " 1323,\n",
       " 132387,\n",
       " 132397,\n",
       " 1326,\n",
       " 1327,\n",
       " 132400,\n",
       " 1328,\n",
       " 132395,\n",
       " 132403,\n",
       " 132401,\n",
       " 1333,\n",
       " 132406,\n",
       " 132407,\n",
       " 132408,\n",
       " 1336,\n",
       " 132410,\n",
       " 1338,\n",
       " 1340,\n",
       " 1341,\n",
       " 132414,\n",
       " 1342,\n",
       " 132416,\n",
       " 1345,\n",
       " 132417,\n",
       " 1347,\n",
       " 132419,\n",
       " 132421,\n",
       " 132415,\n",
       " 132423,\n",
       " 1351,\n",
       " 1352,\n",
       " 132422,\n",
       " 132427,\n",
       " 1356,\n",
       " 132429,\n",
       " 132430,\n",
       " 132431,\n",
       " 1360,\n",
       " 132433,\n",
       " 1361,\n",
       " 1363,\n",
       " 1362,\n",
       " 1365,\n",
       " 132432,\n",
       " 1364,\n",
       " 1368,\n",
       " 1369,\n",
       " 132442,\n",
       " 132440,\n",
       " 132444,\n",
       " 1371,\n",
       " 1366,\n",
       " 1375,\n",
       " 1376,\n",
       " 1377,\n",
       " 132450,\n",
       " 1379,\n",
       " 1380,\n",
       " 1378,\n",
       " 132454,\n",
       " 132448,\n",
       " 1384,\n",
       " 132457,\n",
       " 132458,\n",
       " 132456,\n",
       " 132460,\n",
       " ...}"
      ]
     },
     "execution_count": 9,
     "metadata": {},
     "output_type": "execute_result"
    }
   ],
   "source": [
    "data_pv_only = set(data_pv['cust_id'])-set(data_fav['cust_id'])-set(data_cart['cust_id'])-set(data_buy['cust_id'])\n",
    "set(data_pv['cust_id'])"
   ]
  },
  {
   "cell_type": "code",
   "execution_count": 10,
   "id": "2e3a1c3f",
   "metadata": {},
   "outputs": [],
   "source": [
    "pv_day=data1[data1.be_type=='pv'].groupby('buy_time')['be_type'].count()#how many pv customers in different time periods"
   ]
  },
  {
   "cell_type": "code",
   "execution_count": 11,
   "id": "28ecb8dc",
   "metadata": {},
   "outputs": [],
   "source": [
    "uv_day = data1[data1.be_type=='pv'].drop_duplicates(['cust_id','buy_time']).groupby('buy_time')['be_type'].count()\n",
    "#Click-through Rate in different time periods after drop duplicated pv customer"
   ]
  },
  {
   "cell_type": "code",
   "execution_count": 12,
   "id": "613ca924",
   "metadata": {},
   "outputs": [],
   "source": [
    "x_label=pv_day.index\n",
    "value1=pv_day.values\n",
    "value2=uv_day.values"
   ]
  },
  {
   "cell_type": "code",
   "execution_count": 13,
   "id": "94356aed",
   "metadata": {},
   "outputs": [
    {
     "data": {
      "image/png": "[encoded data removed]",
      "text/plain": [
       "<Figure size 1600x800 with 1 Axes>"
      ]
     },
     "metadata": {},
     "output_type": "display_data"
    }
   ],
   "source": [
    "plt.rcParams['font.sans-serif']=['SimHei']\n",
    "plt.rcParams['axes.unicode_minus']=False\n",
    "plt.figure(figsize=(16,8))\n",
    "plt.plot(x_label,value1,linewidth=4)\n",
    "plt.title('trends of daily Click-through Rate',fontsize=20)\n",
    "plt.xlabel('date',fontsize=20)\n",
    "plt.ylabel('PV',fontsize=20)\n",
    "plt.show()"
   ]
  },
  {
   "cell_type": "code",
   "execution_count": 14,
   "id": "e6c1aaf1",
   "metadata": {},
   "outputs": [],
   "source": [
    "date=pd.Series(data1.buy_time.unique()).sort_values()[:-7]\n",
    "\n",
    "pv_hour=data1.groupby('hours')['cust_id'].count().reset_index().rename(columns={'用户ID':'pv'})\n",
    "uv_hour = data1.groupby('hours')['cust_id'].apply(lambda x: x.drop_duplicates().count()).reset_index().rename(columns={'用户ID':'UV'})\n"
   ]
  },
  {
   "cell_type": "code",
   "execution_count": 15,
   "id": "b8c6f6c4",
   "metadata": {},
   "outputs": [
    {
     "data": {
      "image/png": "[encoded data removed]",
      "text/plain": [
       "<Figure size 640x480 with 2 Axes>"
      ]
     },
     "metadata": {},
     "output_type": "display_data"
    }
   ],
   "source": [
    "fig,axes=plt.subplots(2,1,sharex=True)\n",
    "pv_hour.plot(x='hours',y='cust_id',ax=axes[0])\n",
    "uv_hour.plot(x='hours',y='cust_id',ax=axes[1])\n",
    "plt.show()"
   ]
  },
  {
   "cell_type": "code",
   "execution_count": 16,
   "id": "b783795e",
   "metadata": {},
   "outputs": [],
   "source": [
    "date = pd.Series(data1.buy_time.unique()).sort_values()[:-3]"
   ]
  },
  {
   "cell_type": "code",
   "execution_count": 17,
   "id": "4696bf49",
   "metadata": {},
   "outputs": [],
   "source": [
    "# Retention Rate Calculation\n",
    "def cal_retention(data, n):\n",
    "    user = []  # Used to save registered users\n",
    "    date = pd.Series(data.buy_time.unique()).sort_values()[:-n]  # Calculate how many days the n-day retention can be calculated\n",
    "    retention_rates = []  # Prepare a list to save the calculated retention rates\n",
    "    for i in date:\n",
    "        new_user = set(data[data.buy_time == i].cust_id.unique()) - set(user)  # Identify new users for each day\n",
    "        user.extend(new_user)  # Add new users to the list\n",
    "        user_nday = data[data.buy_time == i + timedelta(n)].cust_id.unique()\n",
    "        a = 0\n",
    "        for cust_id in user_nday:\n",
    "            if cust_id in new_user:\n",
    "                a += 1\n",
    "        retention_rate = a / len(new_user)\n",
    "        retention_rates.append(retention_rate)\n",
    "    data_retention = pd.Series(retention_rates, index=date)\n",
    "    return data_retention\n",
    "\n",
    "# print(cal_retention(data1, 5))\n"
   ]
  },
  {
   "cell_type": "code",
   "execution_count": 18,
   "id": "b5bd55c1",
   "metadata": {},
   "outputs": [
    {
     "name": "stdout",
     "output_type": "stream",
     "text": [
      "buy_time\n",
      "2019-11-05    340\n",
      "2019-11-06    374\n",
      "2019-11-07    348\n",
      "2019-11-08    333\n",
      "2019-11-09    366\n",
      "2019-11-10    382\n",
      "2019-11-11    361\n",
      "2019-11-12    435\n",
      "2019-11-13    401\n",
      "Name: cust_id, dtype: int64\n"
     ]
    }
   ],
   "source": [
    "day_buy_user_num = data1[data1.be_type == 'buy'].drop_duplicates(['cust_id', 'buy_time']).groupby('buy_time')['cust_id'].count()\n",
    "# how many people buy every day\n",
    "day_active_user_num = data1.drop_duplicates(['cust_id', 'buy_time']).groupby('buy_time')['cust_id'].count()\n",
    "# how many people active every day\n",
    "day_buy_rate = day_buy_user_num / day_active_user_num\n",
    "# buy ratio\n",
    "print(day_buy_user_num)"
   ]
  },
  {
   "cell_type": "code",
   "execution_count": 19,
   "id": "658da7ff",
   "metadata": {},
   "outputs": [],
   "source": [
    "attr = day_buy_user_num.index\n",
    "v1 = day_buy_user_num.values\n",
    "v2 = day_buy_rate.values"
   ]
  },
  {
   "cell_type": "code",
   "execution_count": 20,
   "id": "f2a213cb",
   "metadata": {},
   "outputs": [
    {
     "data": {
      "text/plain": [
       "Text(0, 0.5, 'PV')"
      ]
     },
     "execution_count": 20,
     "metadata": {},
     "output_type": "execute_result"
    },
    {
     "data": {
      "image/png": "[encoded data removed]",
      "text/plain": [
       "<Figure size 800x500 with 1 Axes>"
      ]
     },
     "metadata": {},
     "output_type": "display_data"
    }
   ],
   "source": [
    "#number of buyers in different time\n",
    "plt.figure(figsize=(8, 5))\n",
    "plt.plot(attr,v1,linewidth=4)\n",
    "plt.title(\"trends of daily buyer\",fontsize=20)\n",
    "plt.xlabel('date',fontsize=10)\n",
    "plt.ylabel('PV',fontsize=10)"
   ]
  },
  {
   "cell_type": "code",
   "execution_count": 21,
   "id": "77417027",
   "metadata": {},
   "outputs": [
    {
     "data": {
      "text/plain": [
       "Text(0, 0.5, 'PV')"
      ]
     },
     "execution_count": 21,
     "metadata": {},
     "output_type": "execute_result"
    },
    {
     "data": {
      "image/png": "[encoded data removed]",
      "text/plain": [
       "<Figure size 800x500 with 1 Axes>"
      ]
     },
     "metadata": {},
     "output_type": "display_data"
    }
   ],
   "source": [
    "#active buyers in different time\n",
    "plt.figure(figsize=(8, 5))\n",
    "plt.plot(attr,v2,linewidth=4)\n",
    "plt.title(\"daily buy ratio \",fontsize=20)\n",
    "plt.xlabel('date',fontsize=10)\n",
    "plt.ylabel('PV',fontsize=10)"
   ]
  },
  {
   "cell_type": "code",
   "execution_count": 22,
   "id": "3680e41d",
   "metadata": {},
   "outputs": [
    {
     "data": {
      "text/plain": [
       "0.034779932286857496"
      ]
     },
     "execution_count": 22,
     "metadata": {},
     "output_type": "execute_result"
    }
   ],
   "source": [
    "df_rebuy=data1[data1.be_type=='buy'].drop_duplicates(['cust_id','day_id']).groupby('cust_id')['day_id'].count()\n",
    "df_rebuy[df_rebuy>=2].count()/df_rebuy.count()"
   ]
  },
  {
   "cell_type": "code",
   "execution_count": 23,
   "id": "30d10fb3",
   "metadata": {},
   "outputs": [
    {
     "name": "stdout",
     "output_type": "stream",
     "text": [
      "be_type\n",
      "buy       3385\n",
      "cart      9482\n",
      "fav       5015\n",
      "pv      152439\n",
      "Name: cust_id, dtype: int64\n",
      "Favorites + Cart Conversion Rate: 9.510033521605363\n",
      "Purchase Conversion Rate: 2.220560355289657\n"
     ]
    }
   ],
   "source": [
    "# Conversion Rate Calculation\n",
    "data_AARR = data1.groupby('be_type')['cust_id'].count()\n",
    "print(data_AARR)\n",
    "# Click Volume\n",
    "pv_value = data_AARR['pv']\n",
    "# Favorites Volume\n",
    "fav_value = data_AARR['fav']\n",
    "# Cart Volume\n",
    "cart_value = data_AARR['cart']\n",
    "# Purchase Volume\n",
    "buy_value = data_AARR['buy']\n",
    "# Favorites + Cart\n",
    "f_c_value = fav_value + cart_value\n",
    "# Favorites + Cart Conversion Rate\n",
    "f_c_ratio = f_c_value / pv_value\n",
    "# Purchase Conversion Rate\n",
    "buy_ratio = buy_value / pv_value\n",
    "print('Favorites + Cart Conversion Rate:', f_c_ratio * 100)\n",
    "print('Purchase Conversion Rate:', buy_ratio * 100)"
   ]
  },
  {
   "cell_type": "code",
   "execution_count": 24,
   "id": "6fcea446",
   "metadata": {},
   "outputs": [],
   "source": [
    "pv_users = data1[data1.be_type == 'pv']['cust_id'].count()\n",
    "fav_users = data1[data1.be_type == 'fav']['cust_id'].count()\n",
    "cart_users =data1[data1.be_type == 'cart']['cust_id'].count()\n",
    "buy_users = data1[data1.be_type == 'buy']['cust_id'].count()\n",
    "attr = ['Click', 'Cart', 'Save', 'Buy']"
   ]
  },
  {
   "cell_type": "code",
   "execution_count": 25,
   "id": "880ed616",
   "metadata": {},
   "outputs": [
    {
     "name": "stdout",
     "output_type": "stream",
     "text": [
      "Requirement already satisfied: plotly in c:\\users\\huawei\\anaconda3\\envs\\risk_ctrl\\lib\\site-packages (5.15.0)\n",
      "Requirement already satisfied: tenacity>=6.2.0 in c:\\users\\huawei\\anaconda3\\envs\\risk_ctrl\\lib\\site-packages (from plotly) (8.2.2)\n",
      "Requirement already satisfied: packaging in c:\\users\\huawei\\appdata\\roaming\\python\\python37\\site-packages (from plotly) (23.1)\n"
     ]
    }
   ],
   "source": [
    "!pip install plotly\n",
    "import plotly.express as px"
   ]
  },
  {
   "cell_type": "code",
   "execution_count": 26,
   "id": "b04fbc45",
   "metadata": {},
   "outputs": [],
   "source": [
    "data = dict(\n",
    "    number=[pv_users, cart_users, fav_users, buy_users],\n",
    "    stage=attr)"
   ]
  },
  {
   "cell_type": "code",
   "execution_count": 27,
   "id": "560143d1",
   "metadata": {},
   "outputs": [
    {
     "data": {
      "application/vnd.plotly.v1+json": {
       "config": {
        "plotlyServerURL": "https://plot.ly"
       },
       "data": [
        {
         "hovertemplate": "number=%{x}<br>stage=%{y}<extra></extra>",
         "legendgroup": "",
         "marker": {
          "color": "#636efa"
         },
         "name": "",
         "orientation": "h",
         "showlegend": false,
         "type": "funnel",
         "x": [
          152439,
          9482,
          5015,
          3385
         ],
         "xaxis": "x",
         "y": [
          "Click",
          "Cart",
          "Save",
          "Buy"
         ],
         "yaxis": "y"
        }
       ],
       "layout": {
        "legend": {
         "tracegroupgap": 0
        },
        "margin": {
         "t": 60
        },
        "template": {
         "data": {
          "bar": [
           {
            "error_x": {
             "color": "#2a3f5f"
            },
            "error_y": {
             "color": "#2a3f5f"
            },
            "marker": {
             "line": {
              "color": "#E5ECF6",
              "width": 0.5
             },
             "pattern": {
              "fillmode": "overlay",
              "size": 10,
              "solidity": 0.2
             }
            },
            "type": "bar"
           }
          ],
          "barpolar": [
           {
            "marker": {
             "line": {
              "color": "#E5ECF6",
              "width": 0.5
             },
             "pattern": {
              "fillmode": "overlay",
              "size": 10,
              "solidity": 0.2
             }
            },
            "type": "barpolar"
           }
          ],
          "carpet": [
           {
            "aaxis": {
             "endlinecolor": "#2a3f5f",
             "gridcolor": "white",
             "linecolor": "white",
             "minorgridcolor": "white",
             "startlinecolor": "#2a3f5f"
            },
            "baxis": {
             "endlinecolor": "#2a3f5f",
             "gridcolor": "white",
             "linecolor": "white",
             "minorgridcolor": "white",
             "startlinecolor": "#2a3f5f"
            },
            "type": "carpet"
           }
          ],
          "choropleth": [
           {
            "colorbar": {
             "outlinewidth": 0,
             "ticks": ""
            },
            "type": "choropleth"
           }
          ],
          "contour": [
           {
            "colorbar": {
             "outlinewidth": 0,
             "ticks": ""
            },
            "colorscale": [
             [
              0,
              "#0d0887"
             ],
             [
              0.1111111111111111,
              "#46039f"
             ],
             [
              0.2222222222222222,
              "#7201a8"
             ],
             [
              0.3333333333333333,
              "#9c179e"
             ],
             [
              0.4444444444444444,
              "#bd3786"
             ],
             [
              0.5555555555555556,
              "#d8576b"
             ],
             [
              0.6666666666666666,
              "#ed7953"
             ],
             [
              0.7777777777777778,
              "#fb9f3a"
             ],
             [
              0.8888888888888888,
              "#fdca26"
             ],
             [
              1,
              "#f0f921"
             ]
            ],
            "type": "contour"
           }
          ],
          "contourcarpet": [
           {
            "colorbar": {
             "outlinewidth": 0,
             "ticks": ""
            },
            "type": "contourcarpet"
           }
          ],
          "heatmap": [
           {
            "colorbar": {
             "outlinewidth": 0,
             "ticks": ""
            },
            "colorscale": [
             [
              0,
              "#0d0887"
             ],
             [
              0.1111111111111111,
              "#46039f"
             ],
             [
              0.2222222222222222,
              "#7201a8"
             ],
             [
              0.3333333333333333,
              "#9c179e"
             ],
             [
              0.4444444444444444,
              "#bd3786"
             ],
             [
              0.5555555555555556,
              "#d8576b"
             ],
             [
              0.6666666666666666,
              "#ed7953"
             ],
             [
              0.7777777777777778,
              "#fb9f3a"
             ],
             [
              0.8888888888888888,
              "#fdca26"
             ],
             [
              1,
              "#f0f921"
             ]
            ],
            "type": "heatmap"
           }
          ],
          "heatmapgl": [
           {
            "colorbar": {
             "outlinewidth": 0,
             "ticks": ""
            },
            "colorscale": [
             [
              0,
              "#0d0887"
             ],
             [
              0.1111111111111111,
              "#46039f"
             ],
             [
              0.2222222222222222,
              "#7201a8"
             ],
             [
              0.3333333333333333,
              "#9c179e"
             ],
             [
              0.4444444444444444,
              "#bd3786"
             ],
             [
              0.5555555555555556,
              "#d8576b"
             ],
             [
              0.6666666666666666,
              "#ed7953"
             ],
             [
              0.7777777777777778,
              "#fb9f3a"
             ],
             [
              0.8888888888888888,
              "#fdca26"
             ],
             [
              1,
              "#f0f921"
             ]
            ],
            "type": "heatmapgl"
           }
          ],
          "histogram": [
           {
            "marker": {
             "pattern": {
              "fillmode": "overlay",
              "size": 10,
              "solidity": 0.2
             }
            },
            "type": "histogram"
           }
          ],
          "histogram2d": [
           {
            "colorbar": {
             "outlinewidth": 0,
             "ticks": ""
            },
            "colorscale": [
             [
              0,
              "#0d0887"
             ],
             [
              0.1111111111111111,
              "#46039f"
             ],
             [
              0.2222222222222222,
              "#7201a8"
             ],
             [
              0.3333333333333333,
              "#9c179e"
             ],
             [
              0.4444444444444444,
              "#bd3786"
             ],
             [
              0.5555555555555556,
              "#d8576b"
             ],
             [
              0.6666666666666666,
              "#ed7953"
             ],
             [
              0.7777777777777778,
              "#fb9f3a"
             ],
             [
              0.8888888888888888,
              "#fdca26"
             ],
             [
              1,
              "#f0f921"
             ]
            ],
            "type": "histogram2d"
           }
          ],
          "histogram2dcontour": [
           {
            "colorbar": {
             "outlinewidth": 0,
             "ticks": ""
            },
            "colorscale": [
             [
              0,
              "#0d0887"
             ],
             [
              0.1111111111111111,
              "#46039f"
             ],
             [
              0.2222222222222222,
              "#7201a8"
             ],
             [
              0.3333333333333333,
              "#9c179e"
             ],
             [
              0.4444444444444444,
              "#bd3786"
             ],
             [
              0.5555555555555556,
              "#d8576b"
             ],
             [
              0.6666666666666666,
              "#ed7953"
             ],
             [
              0.7777777777777778,
              "#fb9f3a"
             ],
             [
              0.8888888888888888,
              "#fdca26"
             ],
             [
              1,
              "#f0f921"
             ]
            ],
            "type": "histogram2dcontour"
           }
          ],
          "mesh3d": [
           {
            "colorbar": {
             "outlinewidth": 0,
             "ticks": ""
            },
            "type": "mesh3d"
           }
          ],
          "parcoords": [
           {
            "line": {
             "colorbar": {
              "outlinewidth": 0,
              "ticks": ""
             }
            },
            "type": "parcoords"
           }
          ],
          "pie": [
           {
            "automargin": true,
            "type": "pie"
           }
          ],
          "scatter": [
           {
            "fillpattern": {
             "fillmode": "overlay",
             "size": 10,
             "solidity": 0.2
            },
            "type": "scatter"
           }
          ],
          "scatter3d": [
           {
            "line": {
             "colorbar": {
              "outlinewidth": 0,
              "ticks": ""
             }
            },
            "marker": {
             "colorbar": {
              "outlinewidth": 0,
              "ticks": ""
             }
            },
            "type": "scatter3d"
           }
          ],
          "scattercarpet": [
           {
            "marker": {
             "colorbar": {
              "outlinewidth": 0,
              "ticks": ""
             }
            },
            "type": "scattercarpet"
           }
          ],
          "scattergeo": [
           {
            "marker": {
             "colorbar": {
              "outlinewidth": 0,
              "ticks": ""
             }
            },
            "type": "scattergeo"
           }
          ],
          "scattergl": [
           {
            "marker": {
             "colorbar": {
              "outlinewidth": 0,
              "ticks": ""
             }
            },
            "type": "scattergl"
           }
          ],
          "scattermapbox": [
           {
            "marker": {
             "colorbar": {
              "outlinewidth": 0,
              "ticks": ""
             }
            },
            "type": "scattermapbox"
           }
          ],
          "scatterpolar": [
           {
            "marker": {
             "colorbar": {
              "outlinewidth": 0,
              "ticks": ""
             }
            },
            "type": "scatterpolar"
           }
          ],
          "scatterpolargl": [
           {
            "marker": {
             "colorbar": {
              "outlinewidth": 0,
              "ticks": ""
             }
            },
            "type": "scatterpolargl"
           }
          ],
          "scatterternary": [
           {
            "marker": {
             "colorbar": {
              "outlinewidth": 0,
              "ticks": ""
             }
            },
            "type": "scatterternary"
           }
          ],
          "surface": [
           {
            "colorbar": {
             "outlinewidth": 0,
             "ticks": ""
            },
            "colorscale": [
             [
              0,
              "#0d0887"
             ],
             [
              0.1111111111111111,
              "#46039f"
             ],
             [
              0.2222222222222222,
              "#7201a8"
             ],
             [
              0.3333333333333333,
              "#9c179e"
             ],
             [
              0.4444444444444444,
              "#bd3786"
             ],
             [
              0.5555555555555556,
              "#d8576b"
             ],
             [
              0.6666666666666666,
              "#ed7953"
             ],
             [
              0.7777777777777778,
              "#fb9f3a"
             ],
             [
              0.8888888888888888,
              "#fdca26"
             ],
             [
              1,
              "#f0f921"
             ]
            ],
            "type": "surface"
           }
          ],
          "table": [
           {
            "cells": {
             "fill": {
              "color": "#EBF0F8"
             },
             "line": {
              "color": "white"
             }
            },
            "header": {
             "fill": {
              "color": "#C8D4E3"
             },
             "line": {
              "color": "white"
             }
            },
            "type": "table"
           }
          ]
         },
         "layout": {
          "annotationdefaults": {
           "arrowcolor": "#2a3f5f",
           "arrowhead": 0,
           "arrowwidth": 1
          },
          "autotypenumbers": "strict",
          "coloraxis": {
           "colorbar": {
            "outlinewidth": 0,
            "ticks": ""
           }
          },
          "colorscale": {
           "diverging": [
            [
             0,
             "#8e0152"
            ],
            [
             0.1,
             "#c51b7d"
            ],
            [
             0.2,
             "#de77ae"
            ],
            [
             0.3,
             "#f1b6da"
            ],
            [
             0.4,
             "#fde0ef"
            ],
            [
             0.5,
             "#f7f7f7"
            ],
            [
             0.6,
             "#e6f5d0"
            ],
            [
             0.7,
             "#b8e186"
            ],
            [
             0.8,
             "#7fbc41"
            ],
            [
             0.9,
             "#4d9221"
            ],
            [
             1,
             "#276419"
            ]
           ],
           "sequential": [
            [
             0,
             "#0d0887"
            ],
            [
             0.1111111111111111,
             "#46039f"
            ],
            [
             0.2222222222222222,
             "#7201a8"
            ],
            [
             0.3333333333333333,
             "#9c179e"
            ],
            [
             0.4444444444444444,
             "#bd3786"
            ],
            [
             0.5555555555555556,
             "#d8576b"
            ],
            [
             0.6666666666666666,
             "#ed7953"
            ],
            [
             0.7777777777777778,
             "#fb9f3a"
            ],
            [
             0.8888888888888888,
             "#fdca26"
            ],
            [
             1,
             "#f0f921"
            ]
           ],
           "sequentialminus": [
            [
             0,
             "#0d0887"
            ],
            [
             0.1111111111111111,
             "#46039f"
            ],
            [
             0.2222222222222222,
             "#7201a8"
            ],
            [
             0.3333333333333333,
             "#9c179e"
            ],
            [
             0.4444444444444444,
             "#bd3786"
            ],
            [
             0.5555555555555556,
             "#d8576b"
            ],
            [
             0.6666666666666666,
             "#ed7953"
            ],
            [
             0.7777777777777778,
             "#fb9f3a"
            ],
            [
             0.8888888888888888,
             "#fdca26"
            ],
            [
             1,
             "#f0f921"
            ]
           ]
          },
          "colorway": [
           "#636efa",
           "#EF553B",
           "#00cc96",
           "#ab63fa",
           "#FFA15A",
           "#19d3f3",
           "#FF6692",
           "#B6E880",
           "#FF97FF",
           "#FECB52"
          ],
          "font": {
           "color": "#2a3f5f"
          },
          "geo": {
           "bgcolor": "white",
           "lakecolor": "white",
           "landcolor": "#E5ECF6",
           "showlakes": true,
           "showland": true,
           "subunitcolor": "white"
          },
          "hoverlabel": {
           "align": "left"
          },
          "hovermode": "closest",
          "mapbox": {
           "style": "light"
          },
          "paper_bgcolor": "white",
          "plot_bgcolor": "#E5ECF6",
          "polar": {
           "angularaxis": {
            "gridcolor": "white",
            "linecolor": "white",
            "ticks": ""
           },
           "bgcolor": "#E5ECF6",
           "radialaxis": {
            "gridcolor": "white",
            "linecolor": "white",
            "ticks": ""
           }
          },
          "scene": {
           "xaxis": {
            "backgroundcolor": "#E5ECF6",
            "gridcolor": "white",
            "gridwidth": 2,
            "linecolor": "white",
            "showbackground": true,
            "ticks": "",
            "zerolinecolor": "white"
           },
           "yaxis": {
            "backgroundcolor": "#E5ECF6",
            "gridcolor": "white",
            "gridwidth": 2,
            "linecolor": "white",
            "showbackground": true,
            "ticks": "",
            "zerolinecolor": "white"
           },
           "zaxis": {
            "backgroundcolor": "#E5ECF6",
            "gridcolor": "white",
            "gridwidth": 2,
            "linecolor": "white",
            "showbackground": true,
            "ticks": "",
            "zerolinecolor": "white"
           }
          },
          "shapedefaults": {
           "line": {
            "color": "#2a3f5f"
           }
          },
          "ternary": {
           "aaxis": {
            "gridcolor": "white",
            "linecolor": "white",
            "ticks": ""
           },
           "baxis": {
            "gridcolor": "white",
            "linecolor": "white",
            "ticks": ""
           },
           "bgcolor": "#E5ECF6",
           "caxis": {
            "gridcolor": "white",
            "linecolor": "white",
            "ticks": ""
           }
          },
          "title": {
           "x": 0.05
          },
          "xaxis": {
           "automargin": true,
           "gridcolor": "white",
           "linecolor": "white",
           "ticks": "",
           "title": {
            "standoff": 15
           },
           "zerolinecolor": "white",
           "zerolinewidth": 2
          },
          "yaxis": {
           "automargin": true,
           "gridcolor": "white",
           "linecolor": "white",
           "ticks": "",
           "title": {
            "standoff": 15
           },
           "zerolinecolor": "white",
           "zerolinewidth": 2
          }
         }
        },
        "xaxis": {
         "anchor": "y",
         "domain": [
          0,
          1
         ],
         "title": {
          "text": "number"
         }
        },
        "yaxis": {
         "anchor": "x",
         "domain": [
          0,
          1
         ],
         "title": {
          "text": "stage"
         }
        }
       }
      }
     },
     "metadata": {},
     "output_type": "display_data"
    }
   ],
   "source": [
    "fig = px.funnel(data, x='number', y='stage')\n",
    "fig.show()"
   ]
  },
  {
   "cell_type": "code",
   "execution_count": 28,
   "id": "e020bbf0",
   "metadata": {},
   "outputs": [
    {
     "name": "stdout",
     "output_type": "stream",
     "text": [
      "          sale number\n",
      "group_id             \n",
      "2735567            59\n",
      "1464217            56\n",
      "2885743            55\n",
      "4756206            51\n",
      "4801527            42\n",
      "...               ...\n",
      "2085994             1\n",
      "2087698             1\n",
      "2106174             1\n",
      "2108632             1\n",
      "5149827             1\n",
      "\n",
      "[1142 rows x 1 columns]\n"
     ]
    }
   ],
   "source": [
    "product_buy=data1.loc[data1['be_type']=='buy',['cust_id','group_id']]\n",
    "product_buy_count=product_buy.groupby('group_id')['cust_id'].count().rename('sale number')\n",
    "product_buy_count=pd.DataFrame(product_buy_count)\n",
    "product_buy_count=product_buy_count.sort_values(by='sale number',axis=0,ascending=False)\n",
    "print(product_buy_count)"
   ]
  },
  {
   "cell_type": "code",
   "execution_count": null,
   "id": "718cb13b",
   "metadata": {},
   "outputs": [],
   "source": []
  }
 ],
 "metadata": {
  "kernelspec": {
   "display_name": "Python 3 (ipykernel)",
   "language": "python",
   "name": "python3"
  },
  "language_info": {
   "codemirror_mode": {
    "name": "ipython",
    "version": 3
   },
   "file_extension": ".py",
   "mimetype": "text/x-python",
   "name": "python",
   "nbconvert_exporter": "python",
   "pygments_lexer": "ipython3",
   "version": "3.7.16"
  }
 },
 "nbformat": 4,
 "nbformat_minor": 5
}
